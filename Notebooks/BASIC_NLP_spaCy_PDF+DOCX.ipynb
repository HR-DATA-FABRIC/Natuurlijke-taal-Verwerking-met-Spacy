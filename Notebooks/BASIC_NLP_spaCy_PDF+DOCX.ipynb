{
 "cells": [
  {
   "cell_type": "markdown",
   "id": "3a8dd93a",
   "metadata": {},
   "source": [
    "# How to select files of a specific type (.pdf | .docx | .csv)"
   ]
  },
  {
   "cell_type": "code",
   "execution_count": 7,
   "id": "005b83c4",
   "metadata": {},
   "outputs": [
    {
     "data": {
      "text/plain": [
       "'f:\\\\github\\\\NLP-PRIMER-WORKSHOP\\\\Notebooks/DATA'"
      ]
     },
     "metadata": {},
     "output_type": "display_data"
    },
    {
     "data": {
      "text/html": [
       "<div>\n",
       "<style scoped>\n",
       "    .dataframe tbody tr th:only-of-type {\n",
       "        vertical-align: middle;\n",
       "    }\n",
       "\n",
       "    .dataframe tbody tr th {\n",
       "        vertical-align: top;\n",
       "    }\n",
       "\n",
       "    .dataframe thead th {\n",
       "        text-align: right;\n",
       "    }\n",
       "</style>\n",
       "<table border=\"1\" class=\"dataframe\">\n",
       "  <thead>\n",
       "    <tr style=\"text-align: right;\">\n",
       "      <th></th>\n",
       "      <th>filename</th>\n",
       "    </tr>\n",
       "  </thead>\n",
       "  <tbody>\n",
       "    <tr>\n",
       "      <th>1</th>\n",
       "      <td>Artificial Intelligence in Medicine[2022].pdf</td>\n",
       "    </tr>\n",
       "    <tr>\n",
       "      <th>2</th>\n",
       "      <td>Zakharov_Few-Shot_Adversarial_Learning_of_Realistic_Neural_Talking_Head_Models_ICCV_2019_paper.pdf</td>\n",
       "    </tr>\n",
       "  </tbody>\n",
       "</table>\n",
       "</div>"
      ],
      "text/plain": [
       "                                                                                             filename\n",
       "1                                                       Artificial Intelligence in Medicine[2022].pdf\n",
       "2  Zakharov_Few-Shot_Adversarial_Learning_of_Realistic_Neural_Talking_Head_Models_ICCV_2019_paper.pdf"
      ]
     },
     "metadata": {},
     "output_type": "display_data"
    }
   ],
   "source": [
    "import os  # needed for operating system commands\n",
    "import numpy as np # needed for scientific computation\n",
    "import pandas as pd # needed for creating dataframes\n",
    "from pandas import DataFrame as df\n",
    "\n",
    "\n",
    "\n",
    "\n",
    "# needed to set curren directory to path with data files\n",
    "currentdir = os.getcwd() + r'/DATA'\n",
    "flist = pd.DataFrame()\n",
    "\n",
    "# create dataframe with list of .xxx files in de data map\n",
    "# for example .docx | .pdf |  .html | .csv\n",
    "\n",
    "file_type='.pdf' #   lect desired file type\n",
    "\n",
    "\n",
    "# create dataframe with list of .docx files in de data map\n",
    "for r, d, f in os.walk(currentdir):\n",
    "    for idx, file in enumerate(f):\n",
    "        if file_type in file:\n",
    "            #print(os.path.join( ' ', file))\n",
    "            temp = df([file], index = [idx+1])\n",
    "            flist = pd.concat([flist, temp])   \n",
    "            \n",
    "#  Create column with label \"filename\"      \n",
    "filenameslist = flist.rename(columns={0: 'filename'})\n",
    "\n",
    "\n",
    "#display current directory\n",
    "display(currentdir)\n",
    "\n",
    "#display the content of the column\n",
    "pd.set_option('display.max_colwidth', None) # show entire tabular of the column\n",
    "display(filenameslist)\n"
   ]
  },
  {
   "cell_type": "markdown",
   "id": "44cd0f8a",
   "metadata": {},
   "source": [
    "# PDF"
   ]
  },
  {
   "cell_type": "code",
   "execution_count": 3,
   "id": "87bf6672",
   "metadata": {},
   "outputs": [],
   "source": [
    "#IF NO MODULE named spacypdfreader\n",
    "#!pip install spacypdfreader"
   ]
  },
  {
   "cell_type": "code",
   "execution_count": 10,
   "id": "b28a9d9e",
   "metadata": {},
   "outputs": [
    {
     "data": {
      "text/plain": [
       "'f:\\\\github\\\\NLP-PRIMER-WORKSHOP\\\\Notebooks/DATA/Zakharov_Few-Shot_Adversarial_Learning_of_Realistic_Neural_Talking_Head_Models_ICCV_2019_paper.pdf'"
      ]
     },
     "metadata": {},
     "output_type": "display_data"
    }
   ],
   "source": [
    "\n",
    "## SELECT FILENAME + path\n",
    "currentdir = os.getcwd()\n",
    "datadir = r'/DATA/'\n",
    "\n",
    "## NUMBER selects index of filename in the list \n",
    "number = 2-1\n",
    "docsel  = currentdir + datadir + filenameslist.filename.iloc[number]\n",
    "\n",
    "display(docsel)"
   ]
  },
  {
   "cell_type": "code",
   "execution_count": 11,
   "id": "28c3d974",
   "metadata": {},
   "outputs": [
    {
     "name": "stdout",
     "output_type": "stream",
     "text": [
      "1\n",
      "10\n",
      "f:\\github\\NLP-PRIMER-WORKSHOP\\Notebooks\\DATA\\Zakharov_Few-Shot_Adversarial_Learning_of_Realistic_Neural_Talking_Head_Models_ICCV_2019_paper.pdf\n",
      "(1, 10)\n",
      "1\n",
      "10\n",
      "fashion. It is done by simulating episodes of K-shot learn-\n",
      "ing (K = 8 in our experiments). In each episode, we ran-\n",
      "domly draw a training video sequence i and a single frame t\n",
      "from that sequence. In addition to t, we randomly draw ad-\n",
      "ditional K frames s1, s2, . . . , sK from the same sequence.\n",
      "We then compute the estimate ˆei of the i-th video embed-\n",
      "ding by simply averaging the embeddings ˆei(sk) predicted\n",
      "for these additional frames:\n",
      "\n",
      "ˆei =\n",
      "\n",
      "E (xi(sk), yi(sk); φ) .\n",
      "\n",
      "(1)\n",
      "\n",
      "1\n",
      "K\n",
      "\n",
      "K\n",
      "\n",
      "X\n",
      "k=1\n",
      "\n",
      "A reconstruction ˆxi(t) of the t-th frame, based on the\n",
      "\n",
      "estimated embedding ˆei, is then computed:\n",
      "\n",
      "ˆxi(t) = G (yi(t), ˆei; ψ, P) .\n",
      "\n",
      "(2)\n",
      "\n",
      "The parameters of the embedder and the generator are\n",
      "then optimized to minimize the following objective that\n",
      "comprises the content term, the adversarial term, and the\n",
      "embedding match term:\n",
      "\n",
      "L(φ, ψ,P, θ, W, w0, b) = LCNT(φ, ψ, P)+\n",
      "\n",
      "(3)\n",
      "\n",
      "LADV(φ, ψ, P, θ, W, w0, b) + LMCH(φ, W) .\n",
      "\n",
      "In (3), the content loss term LCNT measures the distance\n",
      "between the ground truth image xi(t) and the reconstruc-\n",
      "tion ˆxi(t) using the perceptual similarity measure [19], cor-\n",
      "responding to VGG19 [30] network trained for ILSVRC\n",
      "classiﬁcation and VGGFace [27] network trained for face\n",
      "veriﬁcation. The loss is calculated as the weighted sum of\n",
      "L1 losses between the features of these networks.\n",
      "\n",
      "The adversarial term in (3) corresponds to the realism\n",
      "score computed by the discriminator, which needs to be\n",
      "maximized, and a feature matching term [38], which es-\n",
      "sentially is a perceptual similarity measure, computed using\n",
      "discriminator (it helps with the stability of the training):\n",
      "\n",
      "LADV(φ, ψ, P, θ, W, w0, b) =\n",
      "\n",
      "(4)\n",
      "\n",
      "−D(ˆxi(t), yi(t), i; θ, W, w0, b) + LFM .\n",
      "\n",
      "the\n",
      "Following the projection discriminator\n",
      "columns of the matrix W contain the embeddings that cor-\n",
      "respond to individual videos. The discriminator ﬁrst maps\n",
      "its inputs to an N -dimensional vector V (xi(t), yi(t); θ) and\n",
      "then computes the realism score as:\n",
      "\n",
      "idea [32],\n",
      "\n",
      "D(ˆxi(t), yi(t), i; θ, W, w0, b) =\n",
      "T\n",
      "\n",
      "V (ˆxi(t), yi(t); θ)\n",
      "\n",
      "(Wi + w0) + b ,\n",
      "\n",
      "(5)\n",
      "\n",
      "where Wi denotes the i-th column of the matrix W. At the\n",
      "same time, w0 and b do not depend on the video index, so\n",
      "these terms correspond to the general realism of ˆxi(t) and\n",
      "its compatibility with the landmark image yi(t).\n",
      "\n",
      "Thus, there are two kinds of video embeddings in our\n",
      "system: the ones computed by the embedder, and the ones\n",
      "that correspond to the columns of the matrix W in the dis-\n",
      "criminator. The match term LMCH(φ, W) in (3) encourages\n",
      "the similarity of the two types of embeddings by penalizing\n",
      "the L1-difference between E (xi(sk), yi(sk); φ) and Wi.\n",
      "As we update the parameters φ of the embedder and the\n",
      "parameters ψ of the generator, we also update the parame-\n",
      "ters θ, W, w0, b of the discriminator. The update is driven\n",
      "by the minimization of the following hinge loss, which en-\n",
      "courages the increase of the realism score on real images\n",
      "xi(t) and its decrease on synthesized images ˆxi(t):\n",
      "\n",
      "LDSC(φ, ψ, P, θ, W, w0, b) =\n",
      "\n",
      "(6)\n",
      "max(0, 1 + D(ˆxi(t), yi(t), i; φ, ψ, θ, W, w0, b))+\n",
      "max(0, 1 − D(xi(t), yi(t), i; θ, W, w0, b)) .\n",
      "\n",
      "The objective (6) thus compares the realism of the fake ex-\n",
      "ample ˆxi(t) and the real example xi(t) and then updates\n",
      "the discriminator parameters to push these scores below −1\n",
      "and above +1 respectively. The training proceeds by alter-\n",
      "nating updates of the embedder and the generator that min-\n",
      "imize the losses LCNT, LADV and LMCH with the updates of\n",
      "the discriminator that minimize the loss LDSC.\n",
      "\n",
      "3.3. Few shot learning by ﬁne tuning\n",
      "\n",
      "Once the meta-learning has converged, our system can\n",
      "learn to synthesize talking head sequences for a new person,\n",
      "unseen during meta-learning stage. As before, the synthe-\n",
      "sis is conditioned on the landmark images. The system is\n",
      "learned in a few-shot way, assuming that T training images\n",
      "x(1), x(2), . . . , x(T ) (e.g. T frames of the same video) are\n",
      "given and that y(1), y(2), . . . , y(T ) are the corresponding\n",
      "landmark images. Note that the number of frames T needs\n",
      "not to be equal to K used in the meta-learning stage.\n",
      "\n",
      "Naturally, we can use the meta-learned embedder to es-\n",
      "\n",
      "timate the embedding for the new talking head sequence:\n",
      "\n",
      "ˆeNEW =\n",
      "\n",
      "E(x(t), y(t); φ) ,\n",
      "\n",
      "(7)\n",
      "\n",
      "1\n",
      "T\n",
      "\n",
      "T\n",
      "\n",
      "X\n",
      "t=1\n",
      "\n",
      "reusing the parameters φ estimated in the meta-learning\n",
      "stage. A straightforward way to generate new frames, corre-\n",
      "sponding to new landmark images, is then to apply the gen-\n",
      "erator using the estimated embedding ˆeNEW and the meta-\n",
      "learned parameters ψ, as well as projection matrix P. By\n",
      "doing so, we have found out that the generated images are\n",
      "plausible and realistic, however, there often is a consider-\n",
      "able identity gap that is not acceptable for most applications\n",
      "aiming for high personalization degree.\n",
      "\n",
      "This identity gap can often be bridged via the ﬁne-tuning\n",
      "stage. The ﬁne-tuning process can be seen as a simpliﬁed\n",
      "version of meta-learning with a single video sequence and a\n",
      "\n",
      "9462\n",
      "\n",
      "\f\n"
     ]
    }
   ],
   "source": [
    "import spacy\n",
    "from spacypdfreader import pdf_reader\n",
    "\n",
    "nlp = spacy.load('en_core_web_sm')\n",
    "\n",
    "# Read in a PDF file.\n",
    "\n",
    "doc = pdf_reader(docsel, nlp)\n",
    "\n",
    "# Get the page number of any token.\n",
    "print(doc[0]._.page_number)  # 1\n",
    "print(doc[-1]._.page_number) # 10\n",
    "\n",
    "# Get page meta data about the PDF document.\n",
    "print(doc._.pdf_file_name)   \n",
    "print(doc._.page_range)     \n",
    "print(doc._.first_page)     \n",
    "print(doc._.last_page)     \n",
    "\n",
    "# Get all of the text from a specific PDF page.\n",
    "print(doc._.page(4))         # 'able to display the destination page (unless...'"
   ]
  },
  {
   "cell_type": "markdown",
   "id": "f8a45a91",
   "metadata": {},
   "source": [
    "# How to make a corpus of files in text-format"
   ]
  },
  {
   "cell_type": "markdown",
   "id": "bcc832fb",
   "metadata": {},
   "source": [
    "## .docx"
   ]
  },
  {
   "cell_type": "code",
   "execution_count": 30,
   "id": "94b664e3",
   "metadata": {},
   "outputs": [],
   "source": [
    "# read text from .docx file\n",
    "### IF ModuleNotFoundError: No module named 'docx'\n",
    "### INSTALL \n",
    "\n",
    "#!pip install -U -q --verbose python-docx"
   ]
  },
  {
   "cell_type": "code",
   "execution_count": null,
   "id": "3057a440",
   "metadata": {},
   "outputs": [],
   "source": [
    "import docx\n",
    "\n",
    "## SELECT FILENAME + path\n",
    "currentdir = os.getcwd()\n",
    "datadir = r'/DATA/'\n",
    "## NUMBER selects index of filename in the list \n",
    "number = 1  # FIRST item on the list (index == 0)\n",
    "docsel = currentdir + datadir + filenameslist.filename.iloc[number-1]\n",
    "\n",
    "# show selected\n",
    "print(docsel)"
   ]
  },
  {
   "cell_type": "code",
   "execution_count": 7,
   "id": "6fe8bbf5",
   "metadata": {},
   "outputs": [],
   "source": [
    "import pandas as pd\n",
    "import docx\n",
    "\n",
    "# load text from selected document\n",
    "doc = docx.Document(docsel)\n",
    "data = \"\"\n",
    "fullText = []\n",
    "\n",
    "for para in doc.paragraphs:\n",
    "    fullText.append(para.text)\n",
    "    data = '\\n'.join(fullText)  \n",
    "# additional processing logic here"
   ]
  },
  {
   "cell_type": "code",
   "execution_count": null,
   "id": "c774218c",
   "metadata": {},
   "outputs": [],
   "source": [
    "display(data)"
   ]
  },
  {
   "attachments": {
    "image.png": {
     "image/png": "[encoded data removed]"
    }
   },
   "cell_type": "markdown",
   "id": "9810cb1d",
   "metadata": {},
   "source": [
    "# Linguistic annotations using spaCy\n",
    "### DERIVED FROM https://machinelearningknowledge.ai/tutorial-on-spacy-part-of-speech-pos-tagging/\n",
    "\n",
    "### If spaCy is not installed follow instructuctions on https://spacy.io/usage\n",
    "![image.png](attachment:image.png)"
   ]
  },
  {
   "cell_type": "code",
   "execution_count": 6,
   "id": "ac11106f",
   "metadata": {},
   "outputs": [],
   "source": [
    "# enter here the required code"
   ]
  },
  {
   "attachments": {
    "image.png": {
     "image/png": "[encoded data removed]"
    }
   },
   "cell_type": "markdown",
   "id": "e5c3b57b",
   "metadata": {},
   "source": [
    "## Language Corpera\n",
    "### If a language is not available follow instructions on https://spacy.io/usage/models\n",
    "\n",
    "![image.png](attachment:image.png)"
   ]
  },
  {
   "cell_type": "code",
   "execution_count": 7,
   "id": "2ef3c8c3",
   "metadata": {},
   "outputs": [],
   "source": [
    "####### enter here the required code"
   ]
  },
  {
   "cell_type": "markdown",
   "id": "ac35ef3b",
   "metadata": {},
   "source": [
    "## Tokenization\n",
    "### Segmenting text into words, punctuations marks etc.\n",
    "https://spacy.io/usage/spacy-101#annotations-token\n"
   ]
  },
  {
   "cell_type": "code",
   "execution_count": null,
   "id": "e3ec606d",
   "metadata": {},
   "outputs": [],
   "source": [
    "## standard tokenization in spaCy\n",
    "import spacy\n",
    "\n",
    "nlp = spacy.load(\"en_core_web_sm\")\n",
    "doc = nlp(data)\n",
    "for token in doc:\n",
    "    print(token.text)"
   ]
  },
  {
   "cell_type": "markdown",
   "id": "d7a7a5ba",
   "metadata": {},
   "source": [
    "### WORD TOKENIZATION"
   ]
  },
  {
   "cell_type": "code",
   "execution_count": null,
   "id": "7a17a400",
   "metadata": {},
   "outputs": [],
   "source": [
    "import spacy\n",
    "nlp = spacy.load(\"en_core_web_sm\")\n",
    "from collections import Counter\n",
    "\n",
    "doc = nlp(data)\n",
    "words = [token.text for token in doc]\n",
    "print (words)"
   ]
  },
  {
   "cell_type": "markdown",
   "id": "8fbefad2",
   "metadata": {},
   "source": [
    "### SENTENCE TOKENIZATION\n",
    "Tokenize sentences if the there are more than 1 sentence i.e breaking the sentences to list of sentence."
   ]
  },
  {
   "cell_type": "code",
   "execution_count": null,
   "id": "4183eb44",
   "metadata": {},
   "outputs": [],
   "source": [
    "import spacy\n",
    "nlp = spacy.load(\"en_core_web_sm\")\n",
    "from collections import Counter\n",
    "\n",
    "text = nlp(data)\n",
    "list(text.sents)"
   ]
  },
  {
   "cell_type": "markdown",
   "id": "841ccc3e",
   "metadata": {},
   "source": [
    "### STOP WORDS REMOVAL\n",
    "Remove irrelevant words using nltk stop words like is,the,a etc from the sentences as they don’t carry any information."
   ]
  },
  {
   "cell_type": "code",
   "execution_count": null,
   "id": "cfc8deac",
   "metadata": {},
   "outputs": [],
   "source": [
    "import spacy\n",
    "nlp = spacy.load(\"en_core_web_sm\")\n",
    "from collections import Counter\n",
    "\n",
    "text = \"\"\"Most of the outlay will be at home. No surprise there, either. While Samsung has expanded overseas, South Korea is still host to most of its factories and research engineers. \"\"\"\n",
    "doc = nlp(text)\n",
    "#remove stopwords and punctuations\n",
    "words = [token.text for token in doc if token.is_stop != True and token.is_punct != True]\n",
    "print (words)"
   ]
  },
  {
   "cell_type": "markdown",
   "id": "ad091284",
   "metadata": {},
   "source": [
    "### LEMMATIZATION\n",
    "lemmatize the text so as to get its root form eg: functions,funtionality as function."
   ]
  },
  {
   "cell_type": "code",
   "execution_count": null,
   "id": "dc0a8a14",
   "metadata": {},
   "outputs": [],
   "source": [
    "import spacy\n",
    "nlp = spacy.load(\"en_core_web_sm\")\n",
    "from collections import Counter\n",
    "\n",
    "text = data\n",
    "doc = nlp(text)\n",
    "for token in doc:\n",
    "    print(token, token.lemma_)"
   ]
  },
  {
   "cell_type": "markdown",
   "id": "a647a3d7",
   "metadata": {},
   "source": [
    "### Get word frequency\n",
    "counting the word occurrence using FreqDist library. Word frequency helps us to determine how important the word is in the document by knowing how many times the word is being used."
   ]
  },
  {
   "cell_type": "code",
   "execution_count": null,
   "id": "4909d479",
   "metadata": {},
   "outputs": [],
   "source": [
    "import spacy\n",
    "nlp = spacy.load(\"en_core_web_sm\")\n",
    "from collections import Counter\n",
    "\n",
    "text = data\n",
    "doc = nlp(text)\n",
    "\n",
    "#remove stopwords and punctuations\n",
    "words = [token.text for token in doc if token.is_stop != True and token.is_punct != True]\n",
    "word_freq = Counter(words)\n",
    "common_words = word_freq.most_common(5)\n",
    "print (common_words)"
   ]
  },
  {
   "cell_type": "markdown",
   "id": "635e4b04",
   "metadata": {},
   "source": [
    "### POS tags\n",
    "counting the word occurrence using FreqDist library. Word frequency helps us to determine how important the word is in the document by knowing how many times the word is being used."
   ]
  },
  {
   "cell_type": "code",
   "execution_count": null,
   "id": "f8953b56",
   "metadata": {},
   "outputs": [],
   "source": [
    "import spacy\n",
    "nlp = spacy.load(\"en_core_web_sm\")\n",
    "from collections import Counter\n",
    "\n",
    "doc = nlp(\"Get busy living or get busy dying.\")\n",
    "\n",
    "print(f\"{'text':{8}} {'POS':{6}} {'TAG':{6}} {'Dep':{6}} {'POS explained':{20}} {'tag explained'} \")\n",
    "for token in doc:\n",
    "    print(f'{token.text:{8}} {token.pos_:{6}} {token.tag_:{6}} {token.dep_:{6}} {spacy.explain(token.pos_):{20}} {spacy.explain(token.tag_)}')"
   ]
  },
  {
   "cell_type": "markdown",
   "id": "8e59108b",
   "metadata": {},
   "source": [
    "### Counting POS Tags in Spacy\n",
    "In the example below, we are passing the POS token attribute to Doc.count() function which returns a frequency dictionary with key as POS attribute value and its frequency as the value. With the help of for loop, we are printing the POS tag and its count."
   ]
  },
  {
   "cell_type": "code",
   "execution_count": null,
   "id": "1eb0bed0",
   "metadata": {},
   "outputs": [],
   "source": [
    "import spacy\n",
    "\n",
    "nlp = spacy.load(\"en_core_web_sm\")\n",
    "doc = nlp(u\"Don't be afraid to give up the good to go for the great\")\n",
    "\n",
    "# Counting the frequencies of different POS tags:\n",
    "POS_counts = doc.count_by(spacy.attrs.POS)\n",
    "print(POS_counts)\n",
    "\n",
    "for k,v in sorted(POS_counts.items()):\n",
    "    print(f'{k:{4}}. {doc.vocab[k].text:{5}}: {v}')"
   ]
  },
  {
   "cell_type": "markdown",
   "id": "e1f0202a",
   "metadata": {},
   "source": [
    "## spaCy tokenization + Panda DataFrames "
   ]
  },
  {
   "cell_type": "code",
   "execution_count": null,
   "id": "eadb3d3e",
   "metadata": {},
   "outputs": [],
   "source": [
    "# spaCy tokenization + liguistic annotations\n",
    "tokens = [(token.text, token.lemma_, token.pos_, token.tag_, token.dep_,token.shape_, token.is_alpha, token.is_stop) for token in doc]\n",
    "\n",
    "df = pd.DataFrame(tokens, columns=['text','lemma', 'PoS', 'tag', 'dependency', 'shape', 'alpha', 'stop woord'])\n",
    "pd.set_option(\"display.max_rows\", None, \"display.max_columns\", None) # show all rows\n",
    "\n",
    "df"
   ]
  },
  {
   "cell_type": "markdown",
   "id": "824237f8",
   "metadata": {},
   "source": [
    "# NER Named Entity Recognition"
   ]
  },
  {
   "cell_type": "code",
   "execution_count": 17,
   "id": "7e9e1397",
   "metadata": {},
   "outputs": [],
   "source": [
    "import spacy\n",
    "from spacy import displacy\n",
    "\n",
    "#spacy.prefer_gpu()\n",
    "nlp = spacy.load('nl_core_news_lg')\n",
    "doc = nlp(data) "
   ]
  },
  {
   "cell_type": "code",
   "execution_count": null,
   "id": "3284f4e0",
   "metadata": {},
   "outputs": [],
   "source": [
    "for entity in doc.ents:\n",
    "    print(entity.text + ' - ' + entity.label_ + ' - ' + str(spacy.explain(entity.label_)))"
   ]
  },
  {
   "cell_type": "code",
   "execution_count": null,
   "id": "51fe9f9b",
   "metadata": {},
   "outputs": [],
   "source": [
    "entities = [(e.label_,e.text) for e in doc.ents]\n",
    "df = pd.DataFrame(entities, columns=['Entity','Identified'])\n",
    "pd.set_option(\"display.max_rows\", None, \"display.max_columns\", None)\n",
    "display(df)"
   ]
  },
  {
   "cell_type": "markdown",
   "id": "9a4afeee",
   "metadata": {},
   "source": [
    "## select"
   ]
  },
  {
   "cell_type": "code",
   "execution_count": 38,
   "id": "5a79b8a4",
   "metadata": {},
   "outputs": [
    {
     "data": {
      "text/html": [
       "<div>\n",
       "<style scoped>\n",
       "    .dataframe tbody tr th:only-of-type {\n",
       "        vertical-align: middle;\n",
       "    }\n",
       "\n",
       "    .dataframe tbody tr th {\n",
       "        vertical-align: top;\n",
       "    }\n",
       "\n",
       "    .dataframe thead th {\n",
       "        text-align: right;\n",
       "    }\n",
       "</style>\n",
       "<table border=\"1\" class=\"dataframe\">\n",
       "  <thead>\n",
       "    <tr style=\"text-align: right;\">\n",
       "      <th></th>\n",
       "      <th>Entity</th>\n",
       "      <th>Identified</th>\n",
       "    </tr>\n",
       "  </thead>\n",
       "  <tbody>\n",
       "    <tr>\n",
       "      <th>5</th>\n",
       "      <td>PERSON</td>\n",
       "      <td>NLP</td>\n",
       "    </tr>\n",
       "    <tr>\n",
       "      <th>15</th>\n",
       "      <td>PERSON</td>\n",
       "      <td>doeltaak</td>\n",
       "    </tr>\n",
       "    <tr>\n",
       "      <th>16</th>\n",
       "      <td>PERSON</td>\n",
       "      <td>Trainingsgegevens</td>\n",
       "    </tr>\n",
       "    <tr>\n",
       "      <th>40</th>\n",
       "      <td>PERSON</td>\n",
       "      <td>Python</td>\n",
       "    </tr>\n",
       "    <tr>\n",
       "      <th>49</th>\n",
       "      <td>PERSON</td>\n",
       "      <td>Scala</td>\n",
       "    </tr>\n",
       "  </tbody>\n",
       "</table>\n",
       "</div>"
      ],
      "text/plain": [
       "    Entity         Identified\n",
       "5   PERSON                NLP\n",
       "15  PERSON           doeltaak\n",
       "16  PERSON  Trainingsgegevens\n",
       "40  PERSON             Python\n",
       "49  PERSON              Scala"
      ]
     },
     "execution_count": 38,
     "metadata": {},
     "output_type": "execute_result"
    }
   ],
   "source": [
    "sel = (df.Entity == 'PERSON')\n",
    "df[sel] "
   ]
  },
  {
   "cell_type": "code",
   "execution_count": 39,
   "id": "95487e92",
   "metadata": {},
   "outputs": [
    {
     "data": {
      "text/html": [
       "<div>\n",
       "<style scoped>\n",
       "    .dataframe tbody tr th:only-of-type {\n",
       "        vertical-align: middle;\n",
       "    }\n",
       "\n",
       "    .dataframe tbody tr th {\n",
       "        vertical-align: top;\n",
       "    }\n",
       "\n",
       "    .dataframe thead th {\n",
       "        text-align: right;\n",
       "    }\n",
       "</style>\n",
       "<table border=\"1\" class=\"dataframe\">\n",
       "  <thead>\n",
       "    <tr style=\"text-align: right;\">\n",
       "      <th></th>\n",
       "      <th>Entity</th>\n",
       "      <th>Identified</th>\n",
       "    </tr>\n",
       "  </thead>\n",
       "  <tbody>\n",
       "    <tr>\n",
       "      <th>8</th>\n",
       "      <td>DATE</td>\n",
       "      <td>jaren 1950</td>\n",
       "    </tr>\n",
       "    <tr>\n",
       "      <th>25</th>\n",
       "      <td>DATE</td>\n",
       "      <td>jaren tachtig</td>\n",
       "    </tr>\n",
       "  </tbody>\n",
       "</table>\n",
       "</div>"
      ],
      "text/plain": [
       "   Entity     Identified\n",
       "8    DATE     jaren 1950\n",
       "25   DATE  jaren tachtig"
      ]
     },
     "execution_count": 39,
     "metadata": {},
     "output_type": "execute_result"
    }
   ],
   "source": [
    "sel = (df.Entity == 'DATE')\n",
    "df[sel] "
   ]
  }
 ],
 "metadata": {
  "kernelspec": {
   "display_name": "spacy-pytorch-env",
   "language": "python",
   "name": "python3"
  },
  "language_info": {
   "codemirror_mode": {
    "name": "ipython",
    "version": 3
   },
   "file_extension": ".py",
   "mimetype": "text/x-python",
   "name": "python",
   "nbconvert_exporter": "python",
   "pygments_lexer": "ipython3",
   "version": "3.9.15"
  },
  "vscode": {
   "interpreter": {
    "hash": "e9ae0633d31f27bc4783a903d0c059afa18a9d7fac2fcc436f04793c1d5215e4"
   }
  }
 },
 "nbformat": 4,
 "nbformat_minor": 5
}

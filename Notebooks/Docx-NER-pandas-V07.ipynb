{
 "cells": [
  {
   "cell_type": "markdown",
   "metadata": {},
   "source": [
    "## spaCy 101: Everything you need to know\n",
    "\n",
    "\n",
    "https://spacy.io/usage/spacy-101"
   ]
  },
  {
   "cell_type": "code",
   "execution_count": 1,
   "metadata": {},
   "outputs": [],
   "source": [
    "### UPDATE PIP to newer version\n",
    "#step 1\n",
    "#!python -m pip uninstall pip\n",
    "\n",
    "#Step 2\n",
    "#!python -m ensurepip\n",
    "\n",
    "#Step 3\n",
    "#!python -m pip install -U pip"
   ]
  },
  {
   "cell_type": "code",
   "execution_count": 1,
   "metadata": {},
   "outputs": [],
   "source": [
    "import os\n",
    "import spacy\n",
    "from spacy import displacy\n",
    "import numpy as np\n",
    "import pandas as pd\n",
    "from pandas import DataFrame as df\n",
    "\n",
    "currentdir = os.getcwd() + r'/RAW_DATA/NON'\n",
    "flist = pd.DataFrame()\n",
    "\n",
    "# create dataframe with list of .docx files in de data map\n",
    "for r, d, f in os.walk(currentdir):\n",
    "    for idx, file in enumerate(f):\n",
    "        if \".docx\" in file:\n",
    "            #print(os.path.join( ' ', file))\n",
    "            temp = df([file], index = [idx+1])\n",
    "            flist = pd.concat([flist, temp])   \n",
    "            \n",
    "#  Create column label \"filename\"      \n",
    "filenameslist = flist.rename(columns={0: 'filename'})"
   ]
  },
  {
   "cell_type": "code",
   "execution_count": 2,
   "metadata": {},
   "outputs": [
    {
     "data": {
      "text/plain": [
       "'c:\\\\Users\\\\rob\\\\OneDrive - Hogeschool Rotterdam\\\\HEALTCARE_ZORGTECH\\\\Code/RAW_DATA/NON'"
      ]
     },
     "metadata": {},
     "output_type": "display_data"
    },
    {
     "data": {
      "text/html": [
       "<div>\n",
       "<style scoped>\n",
       "    .dataframe tbody tr th:only-of-type {\n",
       "        vertical-align: middle;\n",
       "    }\n",
       "\n",
       "    .dataframe tbody tr th {\n",
       "        vertical-align: top;\n",
       "    }\n",
       "\n",
       "    .dataframe thead th {\n",
       "        text-align: right;\n",
       "    }\n",
       "</style>\n",
       "<table border=\"1\" class=\"dataframe\">\n",
       "  <thead>\n",
       "    <tr style=\"text-align: right;\">\n",
       "      <th></th>\n",
       "      <th>filename</th>\n",
       "    </tr>\n",
       "  </thead>\n",
       "  <tbody>\n",
       "    <tr>\n",
       "      <th>1</th>\n",
       "      <td>0100316.docx</td>\n",
       "    </tr>\n",
       "    <tr>\n",
       "      <th>2</th>\n",
       "      <td>0200316.docx</td>\n",
       "    </tr>\n",
       "    <tr>\n",
       "      <th>3</th>\n",
       "      <td>0806413.docx</td>\n",
       "    </tr>\n",
       "    <tr>\n",
       "      <th>4</th>\n",
       "      <td>0859522.docx</td>\n",
       "    </tr>\n",
       "    <tr>\n",
       "      <th>5</th>\n",
       "      <td>0864073.docx</td>\n",
       "    </tr>\n",
       "    <tr>\n",
       "      <th>6</th>\n",
       "      <td>0879431.docx</td>\n",
       "    </tr>\n",
       "    <tr>\n",
       "      <th>7</th>\n",
       "      <td>0879722.docx</td>\n",
       "    </tr>\n",
       "    <tr>\n",
       "      <th>8</th>\n",
       "      <td>0890224 .docx</td>\n",
       "    </tr>\n",
       "  </tbody>\n",
       "</table>\n",
       "</div>"
      ],
      "text/plain": [
       "        filename\n",
       "1   0100316.docx\n",
       "2   0200316.docx\n",
       "3   0806413.docx\n",
       "4   0859522.docx\n",
       "5   0864073.docx\n",
       "6   0879431.docx\n",
       "7   0879722.docx\n",
       "8  0890224 .docx"
      ]
     },
     "metadata": {},
     "output_type": "display_data"
    }
   ],
   "source": [
    "# DISPLAY content of currentdir + filenames  .docx list   \n",
    "# ROWS index the number of files available\n",
    "display(currentdir)\n",
    "display(filenameslist)"
   ]
  },
  {
   "cell_type": "code",
   "execution_count": 3,
   "metadata": {},
   "outputs": [
    {
     "name": "stdout",
     "output_type": "stream",
     "text": [
      "c:\\Users\\rob\\OneDrive - Hogeschool Rotterdam\\HEALTCARE_ZORGTECH\\Code/RAW_DATA/NON/0879431.docx\n"
     ]
    }
   ],
   "source": [
    "import docx\n",
    "\n",
    "## SELECT FILENAME + path\n",
    "currentdir = os.getcwd()\n",
    "datadir = r'/RAW_DATA/NON/'\n",
    "\n",
    "## NUMBER selects index of filename in the list \n",
    "number = 5\n",
    "docsel  = currentdir + datadir + filenameslist.filename.iloc[number]\n",
    "\n",
    "print(docsel)"
   ]
  },
  {
   "cell_type": "code",
   "execution_count": 4,
   "metadata": {},
   "outputs": [],
   "source": [
    "## DOWNLOAD + INSTALL DUTCH language CORPUS (if not installed already)\n",
    "## https://spacy.io/models/nl\n",
    "#!python -m spacy download nl_core_news_md\n",
    "#!python -m spacy download nl_core_news_sm\n",
    "#!python -m spacy download nl_core_news_lg\n",
    "#!conda install spacy\n",
    "#!pip install cupy-cuda111\n",
    "#!pip install -U --user 'spacy[cuda-autodetect,transformers,lookups]'\n",
    "#!python -m spacy validate"
   ]
  },
  {
   "cell_type": "code",
   "execution_count": null,
   "metadata": {},
   "outputs": [],
   "source": [
    "import pandas as pd\n",
    "import docx\n",
    "\n",
    "doc = docx.Document(docsel)\n",
    "data = \"\"\n",
    "fullText = []\n",
    "\n",
    "for para in doc.paragraphs:\n",
    "    fullText.append(para.text)\n",
    "    data = '\\n'.join(fullText)\n",
    "    \n",
    "import spacy\n",
    "from spacy import displacy\n",
    "\n",
    "spacy.prefer_gpu()\n",
    "nlp = spacy.load(\"nl_core_news_lg\")\n",
    "doc = nlp(data) \n",
    "## In jupyter Notebooks Use .render (NIET .serve)\n",
    "displacy.render(doc, style=\"ent\")"
   ]
  },
  {
   "attachments": {
    "image.png": {
     "image/png": "[encoded data removed]"
    }
   },
   "cell_type": "markdown",
   "metadata": {},
   "source": [
    "## Linguistic annotations\n",
    "#### Tokenization\n",
    "spaCy provides a variety of linguistic annotations to give you insights into a text’s grammatical structure. This includes the word types, like the parts of speech, and how the words are related to each other. For example, if you’re analyzing text, it makes a huge difference whether a noun is the subject of a sentence, or the object – or whether “google” is used as a verb, or refers to the website or company in a specific context.\n",
    "\n",
    "![image.png](attachment:image.png)"
   ]
  },
  {
   "cell_type": "code",
   "execution_count": null,
   "metadata": {},
   "outputs": [],
   "source": [
    "for token in doc:\n",
    "    print(token.text, token.pos_, token.dep_)"
   ]
  },
  {
   "cell_type": "code",
   "execution_count": null,
   "metadata": {},
   "outputs": [],
   "source": [
    "for token in doc:\n",
    "    print(token.text, token.lemma_, token.pos_, token.tag_, token.dep_,\n",
    "            token.shape_, token.is_alpha, token.is_stop)"
   ]
  },
  {
   "cell_type": "code",
   "execution_count": null,
   "metadata": {},
   "outputs": [],
   "source": [
    "tokens = [(token.text, token.lemma_, token.pos_, token.tag_, token.dep_,token.shape_, token.is_alpha, token.is_stop) for token in doc]\n",
    "df = pd.DataFrame(tokens, columns=['text','lemma', 'PoS', 'tag', 'dependency', 'shape', 'alpha', 'stop woord'])\n",
    "pd.set_option(\"display.max_rows\", None, \"display.max_columns\", None) # show all rows\n",
    "df"
   ]
  },
  {
   "cell_type": "code",
   "execution_count": 10,
   "metadata": {},
   "outputs": [
    {
     "data": {
      "text/plain": [
       "33"
      ]
     },
     "metadata": {},
     "output_type": "display_data"
    },
    {
     "data": {
      "text/html": [
       "<div>\n",
       "<style scoped>\n",
       "    .dataframe tbody tr th:only-of-type {\n",
       "        vertical-align: middle;\n",
       "    }\n",
       "\n",
       "    .dataframe tbody tr th {\n",
       "        vertical-align: top;\n",
       "    }\n",
       "\n",
       "    .dataframe thead th {\n",
       "        text-align: right;\n",
       "    }\n",
       "</style>\n",
       "<table border=\"1\" class=\"dataframe\">\n",
       "  <thead>\n",
       "    <tr style=\"text-align: right;\">\n",
       "      <th></th>\n",
       "      <th>text</th>\n",
       "      <th>lemma</th>\n",
       "      <th>PoS</th>\n",
       "      <th>tag</th>\n",
       "      <th>dependency</th>\n",
       "      <th>shape</th>\n",
       "      <th>alpha</th>\n",
       "      <th>stop woord</th>\n",
       "    </tr>\n",
       "  </thead>\n",
       "  <tbody>\n",
       "    <tr>\n",
       "      <th>33</th>\n",
       "      <td>Studentnummer</td>\n",
       "      <td>Studentnummer</td>\n",
       "      <td>PROPN</td>\n",
       "      <td>N|eigen|ev|basis|onz|stan</td>\n",
       "      <td>ROOT</td>\n",
       "      <td>Xxxxx</td>\n",
       "      <td>True</td>\n",
       "      <td>False</td>\n",
       "    </tr>\n",
       "  </tbody>\n",
       "</table>\n",
       "</div>"
      ],
      "text/plain": [
       "             text          lemma    PoS                        tag dependency  \\\n",
       "33  Studentnummer  Studentnummer  PROPN  N|eigen|ev|basis|onz|stan       ROOT   \n",
       "\n",
       "    shape  alpha  stop woord  \n",
       "33  Xxxxx   True       False  "
      ]
     },
     "metadata": {},
     "output_type": "display_data"
    },
    {
     "data": {
      "text/plain": [
       "'0879431'"
      ]
     },
     "metadata": {},
     "output_type": "display_data"
    }
   ],
   "source": [
    "#SEARCH for  Named Entity Stundentnummer in text column of dataframe df\n",
    "sel = (df.text == 'Studentnummer')\n",
    "nums = np.array( list(np.where(sel)[0]) )\n",
    "display( nums[0]                 )\n",
    "display( df[sel]                 )\n",
    "display( df.iloc [nums[0]+3, 0]  )"
   ]
  },
  {
   "cell_type": "markdown",
   "metadata": {},
   "source": [
    "## NER Named Entity Recognition"
   ]
  },
  {
   "cell_type": "code",
   "execution_count": null,
   "metadata": {},
   "outputs": [],
   "source": [
    "for entity in doc.ents:\n",
    "    print(entity.text + ' - ' + entity.label_ + ' - ' + str(spacy.explain(entity.label_)))"
   ]
  },
  {
   "cell_type": "code",
   "execution_count": 12,
   "metadata": {},
   "outputs": [],
   "source": [
    "entities = [(e.label_,e.text) for e in doc.ents]\n",
    "df = pd.DataFrame(entities, columns=['Entity','Identified'])"
   ]
  },
  {
   "cell_type": "code",
   "execution_count": null,
   "metadata": {},
   "outputs": [],
   "source": [
    "pd.set_option(\"display.max_rows\", None, \"display.max_columns\", None)\n",
    "display(df)"
   ]
  },
  {
   "cell_type": "markdown",
   "metadata": {},
   "source": [
    "# Select "
   ]
  },
  {
   "cell_type": "code",
   "execution_count": 14,
   "metadata": {},
   "outputs": [
    {
     "data": {
      "text/html": [
       "<div>\n",
       "<style scoped>\n",
       "    .dataframe tbody tr th:only-of-type {\n",
       "        vertical-align: middle;\n",
       "    }\n",
       "\n",
       "    .dataframe tbody tr th {\n",
       "        vertical-align: top;\n",
       "    }\n",
       "\n",
       "    .dataframe thead th {\n",
       "        text-align: right;\n",
       "    }\n",
       "</style>\n",
       "<table border=\"1\" class=\"dataframe\">\n",
       "  <thead>\n",
       "    <tr style=\"text-align: right;\">\n",
       "      <th></th>\n",
       "      <th>Entity</th>\n",
       "      <th>Identified</th>\n",
       "    </tr>\n",
       "  </thead>\n",
       "  <tbody>\n",
       "    <tr>\n",
       "      <th>0</th>\n",
       "      <td>PERSON</td>\n",
       "      <td>Zorganalyse</td>\n",
       "    </tr>\n",
       "    <tr>\n",
       "      <th>2</th>\n",
       "      <td>PERSON</td>\n",
       "      <td>Roeland Kroneman</td>\n",
       "    </tr>\n",
       "    <tr>\n",
       "      <th>5</th>\n",
       "      <td>PERSON</td>\n",
       "      <td>Ingrid Hack-van der Waal\\n</td>\n",
       "    </tr>\n",
       "    <tr>\n",
       "      <th>6</th>\n",
       "      <td>PERSON</td>\n",
       "      <td>Bas Baris</td>\n",
       "    </tr>\n",
       "    <tr>\n",
       "      <th>7</th>\n",
       "      <td>PERSON</td>\n",
       "      <td>Yolanda Vis\\n</td>\n",
       "    </tr>\n",
       "    <tr>\n",
       "      <th>8</th>\n",
       "      <td>PERSON</td>\n",
       "      <td>Alwin van der Geer\\nStage</td>\n",
       "    </tr>\n",
       "    <tr>\n",
       "      <th>9</th>\n",
       "      <td>PERSON</td>\n",
       "      <td>Erasmus MC\\n</td>\n",
       "    </tr>\n",
       "    <tr>\n",
       "      <th>10</th>\n",
       "      <td>PERSON</td>\n",
       "      <td>Frank van den Bulk\\nPraktijkopleider</td>\n",
       "    </tr>\n",
       "    <tr>\n",
       "      <th>11</th>\n",
       "      <td>PERSON</td>\n",
       "      <td>Frank van den Bulk\\n</td>\n",
       "    </tr>\n",
       "    <tr>\n",
       "      <th>30</th>\n",
       "      <td>PERSON</td>\n",
       "      <td>Tibia</td>\n",
       "    </tr>\n",
       "    <tr>\n",
       "      <th>31</th>\n",
       "      <td>PERSON</td>\n",
       "      <td>Tibia</td>\n",
       "    </tr>\n",
       "    <tr>\n",
       "      <th>49</th>\n",
       "      <td>PERSON</td>\n",
       "      <td>Gordon</td>\n",
       "    </tr>\n",
       "    <tr>\n",
       "      <th>51</th>\n",
       "      <td>PERSON</td>\n",
       "      <td>Gordon</td>\n",
       "    </tr>\n",
       "    <tr>\n",
       "      <th>55</th>\n",
       "      <td>PERSON</td>\n",
       "      <td>Tibia</td>\n",
       "    </tr>\n",
       "    <tr>\n",
       "      <th>58</th>\n",
       "      <td>PERSON</td>\n",
       "      <td>do not</td>\n",
       "    </tr>\n",
       "    <tr>\n",
       "      <th>67</th>\n",
       "      <td>PERSON</td>\n",
       "      <td>levosimendan</td>\n",
       "    </tr>\n",
       "    <tr>\n",
       "      <th>76</th>\n",
       "      <td>PERSON</td>\n",
       "      <td>09/2016:</td>\n",
       "    </tr>\n",
       "    <tr>\n",
       "      <th>82</th>\n",
       "      <td>PERSON</td>\n",
       "      <td>Supraventriculaire</td>\n",
       "    </tr>\n",
       "    <tr>\n",
       "      <th>85</th>\n",
       "      <td>PERSON</td>\n",
       "      <td>S. Aureus</td>\n",
       "    </tr>\n",
       "    <tr>\n",
       "      <th>102</th>\n",
       "      <td>PERSON</td>\n",
       "      <td>Valrisico</td>\n",
       "    </tr>\n",
       "    <tr>\n",
       "      <th>118</th>\n",
       "      <td>PERSON</td>\n",
       "      <td>Consult</td>\n",
       "    </tr>\n",
       "    <tr>\n",
       "      <th>126</th>\n",
       "      <td>PERSON</td>\n",
       "      <td>Dagelijks huidobservaties</td>\n",
       "    </tr>\n",
       "    <tr>\n",
       "      <th>128</th>\n",
       "      <td>PERSON</td>\n",
       "      <td>Fowler</td>\n",
       "    </tr>\n",
       "    <tr>\n",
       "      <th>132</th>\n",
       "      <td>PERSON</td>\n",
       "      <td>Pijnscore</td>\n",
       "    </tr>\n",
       "    <tr>\n",
       "      <th>137</th>\n",
       "      <td>PERSON</td>\n",
       "      <td>Consult</td>\n",
       "    </tr>\n",
       "    <tr>\n",
       "      <th>154</th>\n",
       "      <td>PERSON</td>\n",
       "      <td>patiëntennummer</td>\n",
       "    </tr>\n",
       "    <tr>\n",
       "      <th>159</th>\n",
       "      <td>PERSON</td>\n",
       "      <td>Tibia</td>\n",
       "    </tr>\n",
       "    <tr>\n",
       "      <th>161</th>\n",
       "      <td>PERSON</td>\n",
       "      <td>patiëntennummer</td>\n",
       "    </tr>\n",
       "    <tr>\n",
       "      <th>181</th>\n",
       "      <td>PERSON</td>\n",
       "      <td>Capillaire refill</td>\n",
       "    </tr>\n",
       "    <tr>\n",
       "      <th>183</th>\n",
       "      <td>PERSON</td>\n",
       "      <td>EMV-score 11\\n-</td>\n",
       "    </tr>\n",
       "    <tr>\n",
       "      <th>206</th>\n",
       "      <td>PERSON</td>\n",
       "      <td>Röntgenopnamen van de borst\\n- Inspanningstest...</td>\n",
       "    </tr>\n",
       "    <tr>\n",
       "      <th>264</th>\n",
       "      <td>PERSON</td>\n",
       "      <td>Dagelijks huidobservaties</td>\n",
       "    </tr>\n",
       "    <tr>\n",
       "      <th>266</th>\n",
       "      <td>PERSON</td>\n",
       "      <td>Fowler</td>\n",
       "    </tr>\n",
       "    <tr>\n",
       "      <th>272</th>\n",
       "      <td>PERSON</td>\n",
       "      <td>Fowler</td>\n",
       "    </tr>\n",
       "    <tr>\n",
       "      <th>286</th>\n",
       "      <td>PERSON</td>\n",
       "      <td>Acella</td>\n",
       "    </tr>\n",
       "    <tr>\n",
       "      <th>294</th>\n",
       "      <td>PERSON</td>\n",
       "      <td>Acella</td>\n",
       "    </tr>\n",
       "    <tr>\n",
       "      <th>348</th>\n",
       "      <td>PERSON</td>\n",
       "      <td>Röntgenopnamen van de borst\\n- Inspanningstest...</td>\n",
       "    </tr>\n",
       "  </tbody>\n",
       "</table>\n",
       "</div>"
      ],
      "text/plain": [
       "     Entity                                         Identified\n",
       "0    PERSON                                        Zorganalyse\n",
       "2    PERSON                                   Roeland Kroneman\n",
       "5    PERSON                         Ingrid Hack-van der Waal\\n\n",
       "6    PERSON                                          Bas Baris\n",
       "7    PERSON                                      Yolanda Vis\\n\n",
       "8    PERSON                          Alwin van der Geer\\nStage\n",
       "9    PERSON                                       Erasmus MC\\n\n",
       "10   PERSON               Frank van den Bulk\\nPraktijkopleider\n",
       "11   PERSON                               Frank van den Bulk\\n\n",
       "30   PERSON                                              Tibia\n",
       "31   PERSON                                              Tibia\n",
       "49   PERSON                                             Gordon\n",
       "51   PERSON                                             Gordon\n",
       "55   PERSON                                              Tibia\n",
       "58   PERSON                                             do not\n",
       "67   PERSON                                       levosimendan\n",
       "76   PERSON                                           09/2016:\n",
       "82   PERSON                                 Supraventriculaire\n",
       "85   PERSON                                          S. Aureus\n",
       "102  PERSON                                          Valrisico\n",
       "118  PERSON                                            Consult\n",
       "126  PERSON                          Dagelijks huidobservaties\n",
       "128  PERSON                                             Fowler\n",
       "132  PERSON                                          Pijnscore\n",
       "137  PERSON                                            Consult\n",
       "154  PERSON                                    patiëntennummer\n",
       "159  PERSON                                              Tibia\n",
       "161  PERSON                                    patiëntennummer\n",
       "181  PERSON                                  Capillaire refill\n",
       "183  PERSON                                    EMV-score 11\\n-\n",
       "206  PERSON  Röntgenopnamen van de borst\\n- Inspanningstest...\n",
       "264  PERSON                          Dagelijks huidobservaties\n",
       "266  PERSON                                             Fowler\n",
       "272  PERSON                                             Fowler\n",
       "286  PERSON                                             Acella\n",
       "294  PERSON                                             Acella\n",
       "348  PERSON  Röntgenopnamen van de borst\\n- Inspanningstest..."
      ]
     },
     "execution_count": 14,
     "metadata": {},
     "output_type": "execute_result"
    }
   ],
   "source": [
    "sel = (df.Entity == 'PERSON')\n",
    "df[sel] "
   ]
  },
  {
   "cell_type": "code",
   "execution_count": null,
   "metadata": {},
   "outputs": [],
   "source": [
    "sel = (df.Entity == 'CARDINAL')\n",
    "df[sel] "
   ]
  },
  {
   "cell_type": "code",
   "execution_count": 16,
   "metadata": {},
   "outputs": [],
   "source": [
    "from docx import Document\n",
    "import docxedit"
   ]
  },
  {
   "cell_type": "code",
   "execution_count": null,
   "metadata": {},
   "outputs": [],
   "source": []
  },
  {
   "cell_type": "code",
   "execution_count": null,
   "metadata": {},
   "outputs": [],
   "source": []
  }
 ],
 "metadata": {
  "kernelspec": {
   "display_name": "spacy-pytorch-env",
   "language": "python",
   "name": "python3"
  },
  "language_info": {
   "codemirror_mode": {
    "name": "ipython",
    "version": 3
   },
   "file_extension": ".py",
   "mimetype": "text/x-python",
   "name": "python",
   "nbconvert_exporter": "python",
   "pygments_lexer": "ipython3",
   "version": "3.9.15"
  },
  "vscode": {
   "interpreter": {
    "hash": "e9ae0633d31f27bc4783a903d0c059afa18a9d7fac2fcc436f04793c1d5215e4"
   }
  }
 },
 "nbformat": 4,
 "nbformat_minor": 4
}

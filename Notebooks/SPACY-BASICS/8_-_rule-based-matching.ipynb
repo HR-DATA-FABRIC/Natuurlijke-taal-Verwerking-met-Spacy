{
 "cells": [
  {
   "cell_type": "code",
   "execution_count": 1,
   "id": "4473e601-6330-4219-a1cb-d6931c44fb75",
   "metadata": {},
   "outputs": [
    {
     "name": "stderr",
     "output_type": "stream",
     "text": [
      "2023-01-25 12:10:13.232516: W tensorflow/stream_executor/platform/default/dso_loader.cc:64] Could not load dynamic library 'libcuda.so.1'; dlerror: libcuda.so.1: cannot open shared object file: No such file or directory; LD_LIBRARY_PATH: /sw/arch/Debian10/EB_production/2021/software/Qhull/2020.2-GCCcore-10.3.0/lib:/sw/arch/Debian10/EB_production/2021/software/SciPy-bundle/2021.05-foss-2021a/lib/python3.9/site-packages/numpy/core/lib:/sw/arch/Debian10/EB_production/2021/software/PyTorch/1.10.0-foss-2021a-CUDA-11.3.1/lib/python3.9/site-packages/torch/lib:/sw/arch/Debian10/EB_production/2021/software/magma/2.6.1-foss-2021a-CUDA-11.3.1/lib:/sw/arch/Debian10/EB_production/2021/software/FFmpeg/4.3.2-GCCcore-10.3.0/lib:/sw/arch/Debian10/EB_production/2021/software/FriBidi/1.0.10-GCCcore-10.3.0/lib:/sw/arch/Debian10/EB_production/2021/software/x265/3.5-GCCcore-10.3.0/lib:/sw/arch/Debian10/EB_production/2021/software/LAME/3.100-GCCcore-10.3.0/lib:/sw/arch/Debian10/EB_production/2021/software/x264/20210414-GCCcore-10.3.0/lib:/sw/arch/Debian10/EB_production/2021/software/MPFR/4.1.0-GCCcore-10.3.0/lib:/sw/arch/Debian10/EB_production/2021/software/libyaml/0.2.5-GCCcore-10.3.0/lib:/sw/arch/Debian10/EB_production/2021/software/snappy/1.1.8-GCCcore-10.3.0/lib:/sw/arch/Debian10/EB_production/2021/software/protobuf/3.17.3-GCCcore-10.3.0/lib:/sw/arch/Debian10/EB_production/2021/software/nsync/1.24.0-GCCcore-10.3.0/lib:/sw/arch/Debian10/EB_production/2021/software/LMDB/0.9.28-GCCcore-10.3.0/lib:/sw/arch/Debian10/EB_production/2021/software/JsonCpp/1.9.4-GCCcore-10.3.0/lib:/sw/arch/Debian10/EB_production/2021/software/giflib/5.2.1-GCCcore-10.3.0/lib:/sw/arch/Debian10/EB_production/2021/software/flatbuffers/2.0.0-GCCcore-10.3.0/lib:/sw/arch/Debian10/EB_production/2021/software/double-conversion/3.1.5-GCCcore-10.3.0/lib:/sw/arch/Debian10/EB_production/2021/software/NCCL/2.10.3-GCCcore-10.3.0-CUDA-11.3.1/lib:/sw/arch/Debian10/EB_production/2021/software/GDRCopy/2.2-GCCcore-10.3.0/lib:/sw/arch/Debian10/EB_production/2021/software/cuDNN/8.2.1.32-CUDA-11.3.1/lib:/sw/arch/Debian10/EB_production/2021/software/CUDA/11.3.1/nvvm/lib64:/sw/arch/Debian10/EB_production/2021/software/CUDA/11.3.1/extras/CUPTI/lib64:/sw/arch/Debian10/EB_production/2021/software/CUDA/11.3.1/lib:/sw/arch/Debian10/EB_production/2021/software/R/4.1.0-foss-2021a/lib/R/lib:/sw/arch/Debian10/EB_production/2021/software/libgit2/1.1.0-GCCcore-10.3.0/lib:/sw/arch/Debian10/EB_production/2021/software/GDAL/3.3.0-foss-2021a/lib:/sw/arch/Debian10/EB_production/2021/software/HDF/4.2.15-GCCcore-10.3.0/lib:/sw/arch/Debian10/EB_production/2021/software/libtirpc/1.3.2-GCCcore-10.3.0/lib:/sw/arch/Debian10/EB_production/2021/software/libgeotiff/1.6.0-GCCcore-10.3.0/lib:/sw/arch/Debian10/EB_production/2021/software/PROJ/8.0.1-GCCcore-10.3.0/lib:/sw/arch/Debian10/EB_production/2021/software/PCRE/8.44-GCCcore-10.3.0/lib:/sw/arch/Debian10/EB_production/2021/software/GEOS/3.9.1-GCC-10.3.0/lib:/sw/arch/Debian10/EB_production/2021/software/netCDF/4.8.0-gompi-2021a/lib:/sw/arch/Debian10/EB_production/2021/software/GLPK/5.0-GCCcore-10.3.0/lib:/sw/arch/Debian10/EB_production/2021/software/ImageMagick/7.0.11-14-GCCcore-10.3.0/lib:/sw/arch/Debian10/EB_production/2021/software/LittleCMS/2.12-GCCcore-10.3.0/lib:/sw/arch/Debian10/EB_production/2021/software/JasPer/2.0.28-GCCcore-10.3.0/lib:/sw/arch/Debian10/EB_production/2021/software/Ghostscript/9.54.0-GCCcore-10.3.0/lib:/sw/arch/Debian10/EB_production/2021/software/GSL/2.7-GCC-10.3.0/lib:/sw/arch/Debian10/EB_production/2021/software/UDUNITS/2.2.28-GCCcore-10.3.0/lib:/sw/arch/Debian10/EB_production/2021/software/HDF5/1.10.7-gompi-2021a/lib:/sw/arch/Debian10/EB_production/2021/software/Szip/2.1.1-GCCcore-10.3.0/lib:/sw/arch/Debian10/EB_production/2021/software/ICU/69.1-GCCcore-10.3.0/lib:/sw/arch/Debian10/EB_production/2021/software/libsndfile/1.0.31-GCCcore-10.3.0/lib:/sw/arch/Debian10/EB_production/2021/software/libvorbis/1.3.7-GCCcore-10.3.0/lib:/sw/arch/Debian10/EB_production/2021/software/FLAC/1.3.3-GCCcore-10.3.0/lib:/sw/arch/Debian10/EB_production/2021/software/libogg/1.3.4-GCCcore-10.3.0/lib:/sw/arch/Debian10/EB_production/2021/software/NLopt/2.7.0-GCCcore-10.3.0/lib:/sw/arch/Debian10/EB_production/2021/software/cURL/7.76.0-GCCcore-10.3.0/lib:/sw/arch/Debian10/EB_production/2021/software/Tk/8.6.11-GCCcore-10.3.0/lib:/sw/arch/Debian10/EB_production/2021/software/Java/11.0.2/lib:/sw/arch/Debian10/EB_production/2021/software/LibTIFF/4.2.0-GCCcore-10.3.0/lib:/sw/arch/Debian10/EB_production/2021/software/libjpeg-turbo/2.0.6-GCCcore-10.3.0/lib:/sw/arch/Debian10/EB_production/2021/software/cairo/1.16.0-GCCcore-10.3.0/lib:/sw/arch/Debian10/EB_production/2021/software/GLib/2.68.2-GCCcore-10.3.0/lib:/sw/arch/Debian10/EB_production/2021/software/PCRE2/10.36-GCCcore-10.3.0/lib:/sw/arch/Debian10/EB_production/2021/software/gettext/0.21-GCCcore-10.3.0/lib:/sw/arch/Debian10/EB_production/2021/software/pixman/0.40.0-GCCcore-10.3.0/lib:/sw/arch/Debian10/EB_production/2021/software/libGLU/9.0.1-GCCcore-10.3.0/lib:/sw/arch/Debian10/EB_production/2021/software/Mesa/21.1.1-GCCcore-10.3.0/lib:/sw/arch/Debian10/EB_production/2021/software/LLVM/11.1.0-GCCcore-10.3.0/lib:/sw/arch/Debian10/EB_production/2021/software/libunwind/1.4.0-GCCcore-10.3.0/lib:/sw/arch/Debian10/EB_production/2021/software/libglvnd/1.3.3-GCCcore-10.3.0/lib:/sw/arch/Debian10/EB_production/2021/software/libdrm/2.4.106-GCCcore-10.3.0/lib:/sw/arch/Debian10/EB_production/2021/software/zstd/1.4.9-GCCcore-10.3.0/lib:/sw/arch/Debian10/EB_production/2021/software/lz4/1.9.3-GCCcore-10.3.0/lib:/sw/arch/Debian10/EB_production/2021/software/X11/20210518-GCCcore-10.3.0/lib:/sw/arch/Debian10/EB_production/2021/software/fontconfig/2.13.93-GCCcore-10.3.0/lib:/sw/arch/Debian10/EB_production/2021/software/freetype/2.10.4-GCCcore-10.3.0/lib:/sw/arch/Debian10/EB_production/2021/software/libpng/1.6.37-GCCcore-10.3.0/lib:/sw/arch/Debian10/EB_production/2021/software/expat/2.2.9-GCCcore-10.3.0/lib:/sw/arch/Debian10/EB_production/2021/software/ScaLAPACK/2.1.0-gompi-2021a-fb/lib:/sw/arch/Debian10/EB_production/2021/software/FFTW/3.3.9-gompi-2021a/lib:/sw/arch/Debian10/EB_production/2021/software/FlexiBLAS/3.0.4-GCC-10.3.0/lib:/sw/arch/Debian10/EB_production/2021/software/OpenBLAS/0.3.15-GCC-10.3.0/lib:/sw/arch/Debian10/EB_production/2021/software/OpenMPI/4.1.1-GCC-10.3.0/lib:/sw/arch/Debian10/EB_production/2021/software/libfabric/1.12.1-GCCcore-10.3.0/lib:/sw/arch/Debian10/EB_production/2021/software/UCX/1.10.0-GCCcore-10.3.0/lib:/sw/arch/Debian10/EB_production/2021/software/libevent/2.1.12-GCCcore-10.3.0/lib:/sw/arch/Debian10/EB_production/2021/software/hwloc/2.4.1-GCCcore-10.3.0/lib:/sw/arch/Debian10/EB_production/2021/software/libpciaccess/0.16-GCCcore-10.3.0/lib:/sw/arch/Debian10/EB_production/2021/software/libxml2/2.9.10-GCCcore-10.3.0/lib:/sw/arch/Debian10/EB_production/2021/software/numactl/2.0.14-GCCcore-10.3.0/lib:/sw/arch/Debian10/EB_production/2021/software/nodejs/14.17.0-GCCcore-10.3.0/lib:/sw/arch/Debian10/EB_production/2021/software/ZeroMQ/4.3.4-GCCcore-10.3.0/lib:/sw/arch/Debian10/EB_production/2021/software/util-linux/2.36-GCCcore-10.3.0/lib:/sw/arch/Debian10/EB_production/2021/software/libsodium/1.0.18-GCCcore-10.3.0/lib:/sw/arch/Debian10/EB_production/2021/software/OpenPGM/5.2.122-GCCcore-10.3.0/lib:/sw/arch/Debian10/EB_production/2021/software/Python/3.9.5-GCCcore-10.3.0/lib:/sw/arch/Debian10/EB_production/2021/software/OpenSSL/1.1/lib:/sw/arch/Debian10/EB_production/2021/software/libffi/3.3-GCCcore-10.3.0/lib64:/sw/arch/Debian10/EB_production/2021/software/GMP/6.2.1-GCCcore-10.3.0/lib:/sw/arch/Debian10/EB_production/2021/software/XZ/5.2.5-GCCcore-10.3.0/lib:/sw/arch/Debian10/EB_production/2021/software/SQLite/3.35.4-GCCcore-10.3.0/lib:/sw/arch/Debian10/EB_production/2021/software/Tcl/8.6.11-GCCcore-10.3.0/lib:/sw/arch/Debian10/EB_production/2021/software/libreadline/8.1-GCCcore-10.3.0/lib:/sw/arch/Debian10/EB_production/2021/software/ncurses/6.2-GCCcore-10.3.0/lib:/sw/arch/Debian10/EB_production/2021/software/bzip2/1.0.8-GCCcore-10.3.0/lib:/sw/arch/Debian10/EB_production/2021/software/binutils/2.36.1-GCCcore-10.3.0/lib:/sw/arch/Debian10/EB_production/2021/software/zlib/1.2.11-GCCcore-10.3.0/lib:/sw/arch/Debian10/EB_production/2021/software/GCCcore/10.3.0/lib64\n",
      "2023-01-25 12:10:13.232625: W tensorflow/stream_executor/cuda/cuda_driver.cc:269] failed call to cuInit: UNKNOWN ERROR (303)\n",
      "2023-01-25 12:10:13.232671: I tensorflow/stream_executor/cuda/cuda_diagnostics.cc:156] kernel driver does not appear to be running on this host (r10n2.lisa.surfsara.nl): /proc/driver/nvidia/version does not exist\n"
     ]
    },
    {
     "ename": "ImportError",
     "evalue": "cannot import name 'get_terminal_size' from 'click.termui' (/home/lcur0968/.local/lib/python3.9/site-packages/click/termui.py)",
     "output_type": "error",
     "traceback": [
      "\u001b[0;31m---------------------------------------------------------------------------\u001b[0m",
      "\u001b[0;31mImportError\u001b[0m                               Traceback (most recent call last)",
      "\u001b[0;32m/tmp/ipykernel_8575/1544883028.py\u001b[0m in \u001b[0;36m<module>\u001b[0;34m\u001b[0m\n\u001b[1;32m     18\u001b[0m \u001b[0;31m# [{'LEMMA': 'buy'}, {'POS\u001b[0m\u001b[0;34m\u001b[0m\u001b[0;34m\u001b[0m\u001b[0;34m\u001b[0m\u001b[0m\n\u001b[1;32m     19\u001b[0m \u001b[0;34m\u001b[0m\u001b[0m\n\u001b[0;32m---> 20\u001b[0;31m \u001b[0;32mimport\u001b[0m \u001b[0mspacy\u001b[0m\u001b[0;34m\u001b[0m\u001b[0;34m\u001b[0m\u001b[0m\n\u001b[0m\u001b[1;32m     21\u001b[0m \u001b[0;34m\u001b[0m\u001b[0m\n\u001b[1;32m     22\u001b[0m \u001b[0;31m# Import the Matcher\u001b[0m\u001b[0;34m\u001b[0m\u001b[0;34m\u001b[0m\u001b[0;34m\u001b[0m\u001b[0m\n",
      "\u001b[0;32m/project/jhlhr004/JHL_installations/Python/lib/python3.9/site-packages/spacy/__init__.py\u001b[0m in \u001b[0;36m<module>\u001b[0;34m\u001b[0m\n\u001b[1;32m     13\u001b[0m \u001b[0;34m\u001b[0m\u001b[0m\n\u001b[1;32m     14\u001b[0m \u001b[0;32mfrom\u001b[0m \u001b[0;34m.\u001b[0m \u001b[0;32mimport\u001b[0m \u001b[0mpipeline\u001b[0m  \u001b[0;31m# noqa: F401\u001b[0m\u001b[0;34m\u001b[0m\u001b[0;34m\u001b[0m\u001b[0m\n\u001b[0;32m---> 15\u001b[0;31m \u001b[0;32mfrom\u001b[0m \u001b[0;34m.\u001b[0m\u001b[0mcli\u001b[0m\u001b[0;34m.\u001b[0m\u001b[0minfo\u001b[0m \u001b[0;32mimport\u001b[0m \u001b[0minfo\u001b[0m  \u001b[0;31m# noqa: F401\u001b[0m\u001b[0;34m\u001b[0m\u001b[0;34m\u001b[0m\u001b[0m\n\u001b[0m\u001b[1;32m     16\u001b[0m \u001b[0;32mfrom\u001b[0m \u001b[0;34m.\u001b[0m\u001b[0mglossary\u001b[0m \u001b[0;32mimport\u001b[0m \u001b[0mexplain\u001b[0m  \u001b[0;31m# noqa: F401\u001b[0m\u001b[0;34m\u001b[0m\u001b[0;34m\u001b[0m\u001b[0m\n\u001b[1;32m     17\u001b[0m \u001b[0;32mfrom\u001b[0m \u001b[0;34m.\u001b[0m\u001b[0mabout\u001b[0m \u001b[0;32mimport\u001b[0m \u001b[0m__version__\u001b[0m  \u001b[0;31m# noqa: F401\u001b[0m\u001b[0;34m\u001b[0m\u001b[0;34m\u001b[0m\u001b[0m\n",
      "\u001b[0;32m/project/jhlhr004/JHL_installations/Python/lib/python3.9/site-packages/spacy/cli/__init__.py\u001b[0m in \u001b[0;36m<module>\u001b[0;34m\u001b[0m\n\u001b[1;32m      1\u001b[0m \u001b[0;32mfrom\u001b[0m \u001b[0mwasabi\u001b[0m \u001b[0;32mimport\u001b[0m \u001b[0mmsg\u001b[0m\u001b[0;34m\u001b[0m\u001b[0;34m\u001b[0m\u001b[0m\n\u001b[1;32m      2\u001b[0m \u001b[0;34m\u001b[0m\u001b[0m\n\u001b[0;32m----> 3\u001b[0;31m \u001b[0;32mfrom\u001b[0m \u001b[0;34m.\u001b[0m\u001b[0m_util\u001b[0m \u001b[0;32mimport\u001b[0m \u001b[0mapp\u001b[0m\u001b[0;34m,\u001b[0m \u001b[0msetup_cli\u001b[0m  \u001b[0;31m# noqa: F401\u001b[0m\u001b[0;34m\u001b[0m\u001b[0;34m\u001b[0m\u001b[0m\n\u001b[0m\u001b[1;32m      4\u001b[0m \u001b[0;34m\u001b[0m\u001b[0m\n\u001b[1;32m      5\u001b[0m \u001b[0;31m# These are the actual functions, NOT the wrapped CLI commands. The CLI commands\u001b[0m\u001b[0;34m\u001b[0m\u001b[0;34m\u001b[0m\u001b[0;34m\u001b[0m\u001b[0m\n",
      "\u001b[0;32m/project/jhlhr004/JHL_installations/Python/lib/python3.9/site-packages/spacy/cli/_util.py\u001b[0m in \u001b[0;36m<module>\u001b[0;34m\u001b[0m\n\u001b[1;32m      7\u001b[0m \u001b[0;32mimport\u001b[0m \u001b[0msrsly\u001b[0m\u001b[0;34m\u001b[0m\u001b[0;34m\u001b[0m\u001b[0m\n\u001b[1;32m      8\u001b[0m \u001b[0;32mimport\u001b[0m \u001b[0mhashlib\u001b[0m\u001b[0;34m\u001b[0m\u001b[0;34m\u001b[0m\u001b[0m\n\u001b[0;32m----> 9\u001b[0;31m \u001b[0;32mimport\u001b[0m \u001b[0mtyper\u001b[0m\u001b[0;34m\u001b[0m\u001b[0;34m\u001b[0m\u001b[0m\n\u001b[0m\u001b[1;32m     10\u001b[0m \u001b[0;32mfrom\u001b[0m \u001b[0mclick\u001b[0m \u001b[0;32mimport\u001b[0m \u001b[0mNoSuchOption\u001b[0m\u001b[0;34m\u001b[0m\u001b[0;34m\u001b[0m\u001b[0m\n\u001b[1;32m     11\u001b[0m \u001b[0;32mfrom\u001b[0m \u001b[0mclick\u001b[0m\u001b[0;34m.\u001b[0m\u001b[0mparser\u001b[0m \u001b[0;32mimport\u001b[0m \u001b[0msplit_arg_string\u001b[0m\u001b[0;34m\u001b[0m\u001b[0;34m\u001b[0m\u001b[0m\n",
      "\u001b[0;32m~/.local/lib/python3.9/site-packages/typer/__init__.py\u001b[0m in \u001b[0;36m<module>\u001b[0;34m\u001b[0m\n\u001b[1;32m     10\u001b[0m \u001b[0;32mfrom\u001b[0m \u001b[0mclick\u001b[0m\u001b[0;34m.\u001b[0m\u001b[0mtermui\u001b[0m \u001b[0;32mimport\u001b[0m \u001b[0mecho_via_pager\u001b[0m \u001b[0;32mas\u001b[0m \u001b[0mecho_via_pager\u001b[0m\u001b[0;34m\u001b[0m\u001b[0;34m\u001b[0m\u001b[0m\n\u001b[1;32m     11\u001b[0m \u001b[0;32mfrom\u001b[0m \u001b[0mclick\u001b[0m\u001b[0;34m.\u001b[0m\u001b[0mtermui\u001b[0m \u001b[0;32mimport\u001b[0m \u001b[0medit\u001b[0m \u001b[0;32mas\u001b[0m \u001b[0medit\u001b[0m\u001b[0;34m\u001b[0m\u001b[0;34m\u001b[0m\u001b[0m\n\u001b[0;32m---> 12\u001b[0;31m \u001b[0;32mfrom\u001b[0m \u001b[0mclick\u001b[0m\u001b[0;34m.\u001b[0m\u001b[0mtermui\u001b[0m \u001b[0;32mimport\u001b[0m \u001b[0mget_terminal_size\u001b[0m \u001b[0;32mas\u001b[0m \u001b[0mget_terminal_size\u001b[0m\u001b[0;34m\u001b[0m\u001b[0;34m\u001b[0m\u001b[0m\n\u001b[0m\u001b[1;32m     13\u001b[0m \u001b[0;32mfrom\u001b[0m \u001b[0mclick\u001b[0m\u001b[0;34m.\u001b[0m\u001b[0mtermui\u001b[0m \u001b[0;32mimport\u001b[0m \u001b[0mgetchar\u001b[0m \u001b[0;32mas\u001b[0m \u001b[0mgetchar\u001b[0m\u001b[0;34m\u001b[0m\u001b[0;34m\u001b[0m\u001b[0m\n\u001b[1;32m     14\u001b[0m \u001b[0;32mfrom\u001b[0m \u001b[0mclick\u001b[0m\u001b[0;34m.\u001b[0m\u001b[0mtermui\u001b[0m \u001b[0;32mimport\u001b[0m \u001b[0mlaunch\u001b[0m \u001b[0;32mas\u001b[0m \u001b[0mlaunch\u001b[0m\u001b[0;34m\u001b[0m\u001b[0;34m\u001b[0m\u001b[0m\n",
      "\u001b[0;31mImportError\u001b[0m: cannot import name 'get_terminal_size' from 'click.termui' (/home/lcur0968/.local/lib/python3.9/site-packages/click/termui.py)"
     ]
    }
   ],
   "source": [
    "# Why not just match based on regex?\n",
    "#  Compared to regular expressions, the matcher works with Doc and Token objects instead of only strings.\n",
    "#  It's also more flexible: you can search for texts but also other lexical attributes.\n",
    "# Why not just match based on regex?\n",
    "#  Compared to regular expressions, the matcher works with Doc and Token objects instead of only strings.\n",
    "#  It's also more flexible: you can search for texts but also other lexical attributes.\n",
    "#  You can even write rules that use the model's predictions.\n",
    "#  For example, find the word \"duck\" only if it's a verb, not a noun.\n",
    "\n",
    "# We can match on exact token texts:\n",
    "# [{'TEXT': 'iPhone'}, {'TEXT': 'X'}]\n",
    "\n",
    "# or match on lexical attributes, e.g. two tokens whose lowercase forms are \"iphone\" and \"x\"\n",
    "# [{'LOWER': 'iphone'}, {'LOWER': 'x'}]\n",
    "\n",
    "# we can also match based on attributes predicted by the model\n",
    "\n",
    "# [{'LEMMA': 'buy'}, {'POS\n",
    "\n",
    "import spacy\n",
    "\n",
    "# Import the Matcher\n",
    "from spacy.matcher import Matcher\n",
    "\n",
    "# Load a model and create the nlp object\n",
    "nlp = spacy.load('en_core_web_sm')\n",
    "\n",
    "# Initialize the matcher with the shared vocab\n",
    "matcher = Matcher(nlp.vocab)\n",
    "\n",
    "\n",
    "# Add the pattern to the matcher\n",
    "pattern = [{'TEXT': 'iPhone'}, {'TEXT': 'X'}]\n",
    "\n",
    "# The parameters here are:\n",
    "# 1) a unique ID to identify which pattern is matched\n",
    "# 2) an optional callback\n",
    "# 3) the pattern itself\n",
    "matcher.add('IPHONE_PATTERN', [pattern])\n",
    "\n",
    "\n"
   ]
  },
  {
   "cell_type": "code",
   "execution_count": 2,
   "id": "2e147151-fdb6-40e4-bcac-e03e3908f0cd",
   "metadata": {},
   "outputs": [
    {
     "ename": "NameError",
     "evalue": "name 'nlp' is not defined",
     "output_type": "error",
     "traceback": [
      "\u001b[0;31m---------------------------------------------------------------------------\u001b[0m",
      "\u001b[0;31mNameError\u001b[0m                                 Traceback (most recent call last)",
      "\u001b[0;32m/tmp/ipykernel_8575/425667850.py\u001b[0m in \u001b[0;36m<module>\u001b[0;34m\u001b[0m\n\u001b[1;32m      1\u001b[0m \u001b[0;31m# Process some text\u001b[0m\u001b[0;34m\u001b[0m\u001b[0;34m\u001b[0m\u001b[0;34m\u001b[0m\u001b[0m\n\u001b[0;32m----> 2\u001b[0;31m \u001b[0mdoc\u001b[0m \u001b[0;34m=\u001b[0m \u001b[0mnlp\u001b[0m\u001b[0;34m(\u001b[0m\u001b[0;34m\"New iPhone X release date leaked\"\u001b[0m\u001b[0;34m)\u001b[0m\u001b[0;34m\u001b[0m\u001b[0;34m\u001b[0m\u001b[0m\n\u001b[0m\u001b[1;32m      3\u001b[0m \u001b[0;34m\u001b[0m\u001b[0m\n\u001b[1;32m      4\u001b[0m \u001b[0;31m# Call the matcher on the doc\u001b[0m\u001b[0;34m\u001b[0m\u001b[0;34m\u001b[0m\u001b[0;34m\u001b[0m\u001b[0m\n\u001b[1;32m      5\u001b[0m \u001b[0mmatches\u001b[0m \u001b[0;34m=\u001b[0m \u001b[0mmatcher\u001b[0m\u001b[0;34m(\u001b[0m\u001b[0mdoc\u001b[0m\u001b[0;34m)\u001b[0m\u001b[0;34m\u001b[0m\u001b[0;34m\u001b[0m\u001b[0m\n",
      "\u001b[0;31mNameError\u001b[0m: name 'nlp' is not defined"
     ]
    }
   ],
   "source": [
    "# Process some text\n",
    "doc = nlp(\"New iPhone X release date leaked\")\n",
    "\n",
    "# Call the matcher on the doc\n",
    "matches = matcher(doc)\n",
    "\n",
    "# The matcher returns a list of tuples.  Each tuple consists of three values:\n",
    "# 1) the match ID\n",
    "# 2) the start index\n",
    "# 3) the end index of the matched span.\n",
    "\n",
    "# This means we can iterate over the matches and create a Span object: a slice of the doc at the start and end index.\n",
    "\n",
    "# Call the matcher on the doc\n",
    "doc = nlp(\"New iPhone X release date leaked\")\n",
    "matches = matcher(doc)"
   ]
  },
  {
   "cell_type": "code",
   "execution_count": 14,
   "id": "b8b32066-9df7-4875-bee0-3f89d6c87925",
   "metadata": {},
   "outputs": [
    {
     "name": "stdout",
     "output_type": "stream",
     "text": [
      "iPhone X\n"
     ]
    }
   ],
   "source": [
    "\n",
    "\n",
    "\n",
    "# When you call the matcher on a doc, it returns a list of tuples.\n",
    "# Each tuple consists of three values: the match ID, the start index and the end index of the matched span.\n",
    "# This means we can iterate over the matches and create a Span object: a slice of the doc at the start and end index.\n",
    "\n",
    "# Iterate over the matches\n",
    "for match_id, start, end in matches:\n",
    "    # Get the matched span\n",
    "    matched_span = doc[start:end]\n",
    "    print(matched_span.text)\n",
    "\n",
    "# Here's an example of a more complex pattern using lexical attributes.\n",
    "# We're looking for five tokens:\n",
    "# A token consisting of only digits.\n",
    "# Three case-insensitive tokens for \"fifa\", \"world\" and \"cup\".\n",
    "# And a token that consists of punctuation.\n",
    "# The pattern matches the tokens \"2018 FIFA World Cup:\".\n",
    "\n",
    "pattern = [\n",
    "    {'IS_DIGIT': True},\n",
    "    {'LOWER': 'fifa'},\n",
    "    {'LOWER': 'world'},\n",
    "    {'LOWER': 'cup'},\n",
    "    {'IS_PUNCT': True}\n",
    "]\n",
    "\n",
    "doc = nlp(\"2018 FIFA World Cup: France won!\")\n",
    "\n",
    "matcher.add('WORLDCUP_PATTERN', [pattern])\n",
    "\n",
    "matches = matcher(doc)\n",
    "\n",
    "matches\n",
    "\n",
    "# We can also match other token attributes\n",
    "\n",
    "love_pattern = [\n",
    "    {'LEMMA': 'love', 'POS': 'VERB'},\n",
    "    {'POS': 'NOUN'}\n",
    "]\n",
    "\n",
    "catdogdoc = nlp(\"I loved dogs but now I love cats more.\")\n",
    "\n",
    "matcher.add('LOVE_PATTERN', [love_pattern])\n",
    "\n",
    "matches = matcher(catdogdoc)\n",
    "\n",
    "# We can use operators and quantifiers too\n",
    "\n",
    "# Operators and quantifiers let you define how often a token should be matched. They can be added using the \"OP\" key.\n",
    "# Here, the \"?\" operator makes the determiner token optional, so it will match a token with the lemma \"buy\",\n",
    "# an optional article and a noun.\n",
    "\n",
    "# \"OP\" can have one of four values:\n",
    "#\n",
    "# An \"!\" negates the token, so it's matched 0 times.\n",
    "#\n",
    "# A \"?\" makes the token optional, and matches it 0 or 1 times.\n",
    "#\n",
    "# A \"+\" matches a token 1 or more times.\n",
    "#\n",
    "# And finally, an \"*\" matches 0 or more times.\n",
    "#\n",
    "# Operators can make your patterns a lot more powerful, but they also add more complexity – so use them wisely.\n",
    "\n",
    "buy_pattern = [\n",
    "    {'LEMMA': 'buy'},\n",
    "    {'POS': 'DET', 'OP': '?'},  # optional: match 0 or 1 times\n",
    "    {'POS': 'NOUN'}\n",
    "]\n",
    "\n",
    "phone_doc = nlp(\"I bought a smartphone. Now I'm buying apps.\")\n",
    "\n",
    "matcher.add('BUY_PATTERN', [buy_pattern])\n",
    "\n",
    "matches = matcher(phone_doc)"
   ]
  },
  {
   "cell_type": "code",
   "execution_count": null,
   "id": "ff36ce22-12fc-459b-9c94-5f15cddaea92",
   "metadata": {},
   "outputs": [],
   "source": []
  }
 ],
 "metadata": {
  "kernelspec": {
   "display_name": "Python 3 (ipykernel)",
   "language": "python",
   "name": "python3"
  },
  "language_info": {
   "codemirror_mode": {
    "name": "ipython",
    "version": 3
   },
   "file_extension": ".py",
   "mimetype": "text/x-python",
   "name": "python",
   "nbconvert_exporter": "python",
   "pygments_lexer": "ipython3",
   "version": "3.9.5"
  }
 },
 "nbformat": 4,
 "nbformat_minor": 5
}
